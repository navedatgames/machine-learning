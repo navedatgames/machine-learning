{
 "cells": [
  {
   "cell_type": "code",
   "execution_count": 1,
   "metadata": {},
   "outputs": [
    {
     "name": "stdout",
     "output_type": "stream",
     "text": [
      "[-3, 1, 2, 8, 41, 86]\n"
     ]
    }
   ],
   "source": [
    "def quicksort(arr):\n",
    "    if len(arr) <= 1:\n",
    "        return arr\n",
    "    pivot = arr[len(arr) // 2]\n",
    "    left = [x for x in arr if x < pivot]\n",
    "    middle = [x for x in arr if x == pivot]\n",
    "    right = [x for x in arr if x > pivot]\n",
    "    return quicksort(left) + middle + quicksort(right)\n",
    "print(quicksort([1, 41, 2, -3, 86, 8]))"
   ]
  },
  {
   "cell_type": "code",
   "execution_count": 2,
   "metadata": {},
   "outputs": [
    {
     "name": "stdout",
     "output_type": "stream",
     "text": [
      "4\n",
      "left [2, 1, 0, -4]\n",
      "middle [4]\n",
      "right [9, 5]\n",
      "0\n",
      "left [-4]\n",
      "middle [0]\n",
      "right [2, 1]\n",
      "1\n",
      "left []\n",
      "middle [1]\n",
      "right [2]\n",
      "5\n",
      "left []\n",
      "middle [5]\n",
      "right [9]\n",
      "[-4, 0, 1, 2, 4, 5, 9]\n"
     ]
    }
   ],
   "source": [
    "def a(b):\n",
    "    if len(b) <= 1:\n",
    "        return b\n",
    "    p=b[len(b)//2]\n",
    "    print(p)\n",
    "    l=[x for x in b if x < p]\n",
    "    m=[x for x in b if x == p]\n",
    "    r=[x for x in b if x > p]\n",
    "    print(\"left\",l)\n",
    "    print(\"middle\",m)\n",
    "    print(\"right\",r)\n",
    "    return a(l)+m+a(r)\n",
    "print(a([2,1,9,4,0,5,-4]))"
   ]
  },
  {
   "cell_type": "code",
   "execution_count": 3,
   "metadata": {},
   "outputs": [
    {
     "name": "stdout",
     "output_type": "stream",
     "text": [
      "#cat: ['cat', 'dog', 'monkey']\n",
      "#dog: ['cat', 'dog', 'monkey']\n",
      "#monkey: ['cat', 'dog', 'monkey']\n"
     ]
    }
   ],
   "source": [
    "animals = ['cat', 'dog', 'monkey']\n",
    "for i in animals:\n",
    "    print('#{}: {}'.format(i , animals))"
   ]
  },
  {
   "cell_type": "code",
   "execution_count": 4,
   "metadata": {},
   "outputs": [
    {
     "name": "stdout",
     "output_type": "stream",
     "text": [
      "{0, 1, 2, 3, 4, 5}\n"
     ]
    }
   ],
   "source": [
    "from math import sqrt\n",
    "print({int(sqrt(x)) for x in range(30)})"
   ]
  },
  {
   "cell_type": "code",
   "execution_count": 24,
   "metadata": {},
   "outputs": [
    {
     "name": "stdout",
     "output_type": "stream",
     "text": [
      "Hello,Naved\n",
      "Hello,khan\n"
     ]
    }
   ],
   "source": [
    "\n",
    "def a(name,b=True):\n",
    "    if b:\n",
    "        print('Hello,{}'.format(name.capitalize()))\n",
    "    else:\n",
    "        print('Hello,{}'.format(name.lower()))\n",
    "a('naved')\n",
    "a('khan',b=False)"
   ]
  },
  {
   "cell_type": "code",
   "execution_count": null,
   "metadata": {},
   "outputs": [],
   "source": []
  },
  {
   "cell_type": "code",
   "execution_count": 23,
   "metadata": {},
   "outputs": [
    {
     "name": "stdout",
     "output_type": "stream",
     "text": [
      "Hello,in\n",
      "Hello,IN\n"
     ]
    }
   ],
   "source": [
    "class a:\n",
    "    def __init__(self, name):\n",
    "        self.name=name\n",
    "    def b(self,loud=False):\n",
    "        if loud:\n",
    "            print('Hello,{}'.format(self.name.upper()))\n",
    "        else:\n",
    "            print('Hello,{}'.format(self.name))\n",
    "g=a('in')\n",
    "g.b()\n",
    "g.b(loud=True)"
   ]
  },
  {
   "cell_type": "code",
   "execution_count": 8,
   "metadata": {},
   "outputs": [
    {
     "name": "stdout",
     "output_type": "stream",
     "text": [
      "[[1 2 3]\n",
      " [4 5 6]\n",
      " [7 8 9]] (3, 3) 3 [[1 4 7]\n",
      " [2 5 8]\n",
      " [3 6 9]]\n",
      "[[ 757935405  538970669 1818632224]\n",
      " [1869509729 1935764852 1600415083]\n",
      " [1953394531 1869965161  539784053]]\n",
      "[[ 2  2  4]\n",
      " [ 5  5  7]\n",
      " [ 8  8 10]]\n"
     ]
    }
   ],
   "source": [
    "import numpy as np\n",
    "a=np.array([[1,2,3],[4,5,6],[7,8,9]])\n",
    "print(a,a.shape,a[0,2],a.T)\n",
    "v = np.array([1, 0, 1])\n",
    "y = np.empty_like(a)\n",
    "print(y)\n",
    "for i in range(3):\n",
    "    y[i, :] = a[i, :] + v\n",
    "print(y)\n"
   ]
  },
  {
   "cell_type": "code",
   "execution_count": 9,
   "metadata": {},
   "outputs": [
    {
     "data": {
      "text/plain": [
       "[<matplotlib.lines.Line2D at 0x195d7fc4dc0>]"
      ]
     },
     "execution_count": 9,
     "metadata": {},
     "output_type": "execute_result"
    },
    {
     "data": {
      "image/png": "[encoded data removed]",
      "text/plain": [
       "<Figure size 432x288 with 1 Axes>"
      ]
     },
     "metadata": {
      "needs_background": "light"
     },
     "output_type": "display_data"
    }
   ],
   "source": [
    "import matplotlib.pyplot as plt\n",
    "%matplotlib inline\n",
    "x = np.arange(0, 3 * np.pi, 0.1)\n",
    "y_sin = np.sin(x)\n",
    "y_cos = np.cos(x)\n",
    "plt.plot(x, y_sin)\n",
    "plt.plot(x, y_cos)"
   ]
  },
  {
   "cell_type": "code",
   "execution_count": null,
   "metadata": {},
   "outputs": [],
   "source": []
  }
 ],
 "metadata": {
  "kernelspec": {
   "display_name": "Python 3",
   "language": "python",
   "name": "python3"
  },
  "language_info": {
   "codemirror_mode": {
    "name": "ipython",
    "version": 3
   },
   "file_extension": ".py",
   "mimetype": "text/x-python",
   "name": "python",
   "nbconvert_exporter": "python",
   "pygments_lexer": "ipython3",
   "version": "3.8.3"
  }
 },
 "nbformat": 4,
 "nbformat_minor": 4
}
